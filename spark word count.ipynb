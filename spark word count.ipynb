{
 "cells": [
  {
   "cell_type": "code",
   "execution_count": 1,
   "metadata": {},
   "outputs": [],
   "source": [
    "import pandas as pd\n",
    "import spark\n",
    "from pyspark.sql import SparkSession\n"
   ]
  },
  {
   "cell_type": "code",
   "execution_count": 2,
   "metadata": {},
   "outputs": [],
   "source": [
    "import findspark\n",
    "findspark.init()"
   ]
  },
  {
   "cell_type": "code",
   "execution_count": 3,
   "metadata": {},
   "outputs": [],
   "source": [
    "\n",
    "#conf = SparkConf().set(\"spark.executor.heartbeatInterval\", \"200000\").set(\"spark.network.timeout\", \"300000\")\n",
    "spark = SparkSession.builder\\\n",
    "                    .master(\"local\")\\\n",
    "                    .appName(\"word count\")\\\n",
    "                    .config(\"spark.executor.heartbeatInterval\", \"3600s\")\\\n",
    "                    .config(\"spark.network.timeout\", \"10000s\")\\\n",
    "                    .getOrCreate()\n",
    "sc = spark.sparkContext"
   ]
  },
  {
   "cell_type": "code",
   "execution_count": 3,
   "metadata": {},
   "outputs": [],
   "source": [
    "#text = sc.wholeTextFiles('data/history_biology.txt')\n",
    "                                                    #\\,data/history_of_mathematics.txt'\n",
    "                                                    "
   ]
  },
  {
   "cell_type": "code",
   "execution_count": 4,
   "metadata": {},
   "outputs": [],
   "source": [
    "text = sc.textFile('text.txt')"
   ]
  },
  {
   "cell_type": "code",
   "execution_count": 5,
   "metadata": {},
   "outputs": [
    {
     "data": {
      "text/plain": [
       "['Throw a rock and you’ll hit an organization undergoing their “digital transformation” nine times out of 10 these days. This is true for good reason. The entire world has been undergoing its own digital transformation over the past few decades as technology has advanced in leaps and bounds. Embracing the digital world is all but mandatory for organizations of all shapes and sizes.',\n",
       " '',\n",
       " 'The pace of technological advancement shows no signs of slowing, and we certainly won’t be returning to simpler times barring catastrophic turns of events']"
      ]
     },
     "execution_count": 5,
     "metadata": {},
     "output_type": "execute_result"
    }
   ],
   "source": [
    "text.collect()"
   ]
  },
  {
   "cell_type": "markdown",
   "metadata": {},
   "source": [
    "Cleaning data from separators and puntuations"
   ]
  },
  {
   "cell_type": "code",
   "execution_count": 6,
   "metadata": {},
   "outputs": [],
   "source": [
    "def data_cleaning(x):\n",
    "  punc='!\"#$%&\\'()*+,./:;“”<=>?@[\\\\]^_`{|}~-1234567890'\n",
    "  cleaned_text = x.lower()\n",
    "  for ch in punc:\n",
    "    cleaned_text = cleaned_text.replace(ch, '')\n",
    "  return cleaned_text"
   ]
  },
  {
   "cell_type": "code",
   "execution_count": 7,
   "metadata": {},
   "outputs": [],
   "source": [
    "text_cleaned = text.map(data_cleaning)\n",
    "#text_cleaned.collect()"
   ]
  },
  {
   "cell_type": "markdown",
   "metadata": {},
   "source": [
    "Creating count of words in text "
   ]
  },
  {
   "cell_type": "code",
   "execution_count": 8,
   "metadata": {},
   "outputs": [],
   "source": [
    "text_count = text_cleaned.flatMap(lambda x: x.split(' '))\\\n",
    "                .map(lambda x: (x, 1))\\\n",
    "                .reduceByKey(lambda x, y: x+y)"
   ]
  },
  {
   "cell_type": "markdown",
   "metadata": {},
   "source": [
    "Converting RDD object to pandas dataframe"
   ]
  },
  {
   "cell_type": "code",
   "execution_count": 10,
   "metadata": {},
   "outputs": [
    {
     "data": {
      "text/plain": [
       "[('throw', 1),\n",
       " ('a', 1),\n",
       " ('rock', 1),\n",
       " ('and', 4),\n",
       " ('you’ll', 1),\n",
       " ('hit', 1),\n",
       " ('an', 1),\n",
       " ('organization', 1),\n",
       " ('undergoing', 2),\n",
       " ('their', 1),\n",
       " ('digital', 3),\n",
       " ('transformation', 2),\n",
       " ('nine', 1),\n",
       " ('times', 2),\n",
       " ('out', 1),\n",
       " ('of', 5),\n",
       " ('', 2),\n",
       " ('these', 1),\n",
       " ('days', 1),\n",
       " ('this', 1),\n",
       " ('is', 2),\n",
       " ('true', 1),\n",
       " ('for', 2),\n",
       " ('good', 1),\n",
       " ('reason', 1),\n",
       " ('the', 4),\n",
       " ('entire', 1),\n",
       " ('world', 2),\n",
       " ('has', 2),\n",
       " ('been', 1),\n",
       " ('its', 1),\n",
       " ('own', 1),\n",
       " ('over', 1),\n",
       " ('past', 1),\n",
       " ('few', 1),\n",
       " ('decades', 1),\n",
       " ('as', 1),\n",
       " ('technology', 1),\n",
       " ('advanced', 1),\n",
       " ('in', 1),\n",
       " ('leaps', 1),\n",
       " ('bounds', 1),\n",
       " ('embracing', 1),\n",
       " ('all', 2),\n",
       " ('but', 1),\n",
       " ('mandatory', 1),\n",
       " ('organizations', 1),\n",
       " ('shapes', 1),\n",
       " ('sizes', 1),\n",
       " ('pace', 1),\n",
       " ('technological', 1),\n",
       " ('advancement', 1),\n",
       " ('shows', 1),\n",
       " ('no', 1),\n",
       " ('signs', 1),\n",
       " ('slowing', 1),\n",
       " ('we', 1),\n",
       " ('certainly', 1),\n",
       " ('won’t', 1),\n",
       " ('be', 1),\n",
       " ('returning', 1),\n",
       " ('to', 1),\n",
       " ('simpler', 1),\n",
       " ('barring', 1),\n",
       " ('catastrophic', 1),\n",
       " ('turns', 1),\n",
       " ('events', 1)]"
      ]
     },
     "execution_count": 10,
     "metadata": {},
     "output_type": "execute_result"
    }
   ],
   "source": [
    "text_count.collect()"
   ]
  },
  {
   "cell_type": "code",
   "execution_count": 9,
   "metadata": {},
   "outputs": [],
   "source": [
    "df = text_count.toDF()\n",
    "df1 = df.toPandas()"
   ]
  },
  {
   "cell_type": "markdown",
   "metadata": {},
   "source": [
    "Rename columns and find top 10 most popular words "
   ]
  },
  {
   "cell_type": "code",
   "execution_count": 11,
   "metadata": {},
   "outputs": [
    {
     "data": {
      "text/html": [
       "<div>\n",
       "<style scoped>\n",
       "    .dataframe tbody tr th:only-of-type {\n",
       "        vertical-align: middle;\n",
       "    }\n",
       "\n",
       "    .dataframe tbody tr th {\n",
       "        vertical-align: top;\n",
       "    }\n",
       "\n",
       "    .dataframe thead th {\n",
       "        text-align: right;\n",
       "    }\n",
       "</style>\n",
       "<table border=\"1\" class=\"dataframe\">\n",
       "  <thead>\n",
       "    <tr style=\"text-align: right;\">\n",
       "      <th></th>\n",
       "      <th>word</th>\n",
       "      <th>count</th>\n",
       "    </tr>\n",
       "  </thead>\n",
       "  <tbody>\n",
       "    <tr>\n",
       "      <th>15</th>\n",
       "      <td>of</td>\n",
       "      <td>5</td>\n",
       "    </tr>\n",
       "    <tr>\n",
       "      <th>25</th>\n",
       "      <td>the</td>\n",
       "      <td>4</td>\n",
       "    </tr>\n",
       "    <tr>\n",
       "      <th>3</th>\n",
       "      <td>and</td>\n",
       "      <td>4</td>\n",
       "    </tr>\n",
       "    <tr>\n",
       "      <th>10</th>\n",
       "      <td>digital</td>\n",
       "      <td>3</td>\n",
       "    </tr>\n",
       "    <tr>\n",
       "      <th>22</th>\n",
       "      <td>for</td>\n",
       "      <td>2</td>\n",
       "    </tr>\n",
       "    <tr>\n",
       "      <th>43</th>\n",
       "      <td>all</td>\n",
       "      <td>2</td>\n",
       "    </tr>\n",
       "    <tr>\n",
       "      <th>20</th>\n",
       "      <td>is</td>\n",
       "      <td>2</td>\n",
       "    </tr>\n",
       "    <tr>\n",
       "      <th>27</th>\n",
       "      <td>world</td>\n",
       "      <td>2</td>\n",
       "    </tr>\n",
       "    <tr>\n",
       "      <th>8</th>\n",
       "      <td>undergoing</td>\n",
       "      <td>2</td>\n",
       "    </tr>\n",
       "    <tr>\n",
       "      <th>28</th>\n",
       "      <td>has</td>\n",
       "      <td>2</td>\n",
       "    </tr>\n",
       "  </tbody>\n",
       "</table>\n",
       "</div>"
      ],
      "text/plain": [
       "          word  count\n",
       "15          of      5\n",
       "25         the      4\n",
       "3          and      4\n",
       "10     digital      3\n",
       "22         for      2\n",
       "43         all      2\n",
       "20          is      2\n",
       "27       world      2\n",
       "8   undergoing      2\n",
       "28         has      2"
      ]
     },
     "execution_count": 11,
     "metadata": {},
     "output_type": "execute_result"
    }
   ],
   "source": [
    "df1 = df1.rename(columns={'_1':'word', '_2':'count'})\n",
    "df1.sort_values('count', ascending=False).head(10)"
   ]
  },
  {
   "cell_type": "code",
   "execution_count": null,
   "metadata": {},
   "outputs": [],
   "source": []
  }
 ],
 "metadata": {
  "interpreter": {
   "hash": "46971d6258fae1e211635d8bf7f60d4d01846c4e42537e37b5cbd719f8de335b"
  },
  "kernelspec": {
   "display_name": "Python 3.8.5 64-bit",
   "language": "python",
   "name": "python3"
  },
  "language_info": {
   "codemirror_mode": {
    "name": "ipython",
    "version": 3
   },
   "file_extension": ".py",
   "mimetype": "text/x-python",
   "name": "python",
   "nbconvert_exporter": "python",
   "pygments_lexer": "ipython3",
   "version": "3.8.5"
  },
  "orig_nbformat": 4
 },
 "nbformat": 4,
 "nbformat_minor": 2
}
